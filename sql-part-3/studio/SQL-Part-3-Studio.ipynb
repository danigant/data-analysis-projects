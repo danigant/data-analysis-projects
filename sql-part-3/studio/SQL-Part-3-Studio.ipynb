{
 "cells": [
  {
   "cell_type": "markdown",
   "metadata": {},
   "source": [
    "# SQL Part 3 Studio\n",
    "\n",
    "Let's practice your SQL querying skills! For each question, work along in the notebook, adding your query and answering the questions.\n",
    "\n",
    "## The Dataset\n",
    "\n",
    "We will be using the Goodbooks-10k dataset from the exercises in the prep work. Feel free reference your previous notebooks.\n",
    "\n",
    "1. The dataset can be found here: [goodbooks-10k](https://www.kaggle.com/zygmunt/goodbooks-10k)\n",
    "1. You can access `BooksDB` in the LaunchCode server.\n",
    "\n",
    "## Business Issue\n",
    "\n",
    "You are an employee at a small independent bookstore and you have been tasked with increasing sales.  You decide to use `BooksDB` to find books and themes to highlight in fun promotions throughout each month and/or season.  We will be starting with March and then you will have a chance to explore another month of your choosing.  We want to come up with a list of promotions to run each month.  If you are looking for ideas, here are some resources on different holidays:\n",
    "\n",
    "- [https://www.calendarr.com/united-states/calendar-2022/](https://www.calendarr.com/united-states/calendar-2022/)\n",
    "- [https://www.holidayinsights.com/moreholidays/](https://www.holidayinsights.com/moreholidays/)\n",
    "    - Click on a month and it will take you to a more detailed page"
   ]
  },
  {
   "cell_type": "markdown",
   "metadata": {},
   "source": [
    "## Part 1:  March - Women's History Month, National Pie Day (3/14), St. Patrick's Day (3/17), Season - Spring"
   ]
  },
  {
   "cell_type": "markdown",
   "metadata": {},
   "source": [
    "### Event 1: Women's History Month\n",
    "\n",
    "Highlight popular women writers based on ratings from `BooksDB` by writing a query that returns `tag_id`, the number of times each `tag_id` is used and the `tag_name`. Use the `GROUP BY` and `HAVING` clause to narrow your focus and try multiple keywords, such as \"woman\" and \"female\"."
   ]
  },
  {
   "cell_type": "code",
   "execution_count": null,
   "metadata": {
    "vscode": {
     "languageId": "sql"
    }
   },
   "outputs": [],
   "source": [
    "SELECT t.tag_name, COUNT(t.tag_name) AS Tag_Count, t.tag_id\n",
    "FROM BooksDB.dbo.book_tags AS bt \n",
    "INNER JOIN BooksDB.dbo.tags AS t ON bt.tag_id = t.tag_id\n",
    "GROUP BY t.tag_name, t.tag_id\n",
    "HAVING t.tag_name LIKE '%women%' OR t.tag_name LIKE '%female%'\n",
    "ORDER BY count(t.tag_name) DESC"
   ]
  },
  {
   "cell_type": "markdown",
   "metadata": {},
   "source": [
    "### Event 2: Choose another event from March/Spring\n",
    "\n",
    "Write a query to return authors, titles, ratings, and `tag_id` that you would want to promote during your chosen event."
   ]
  },
  {
   "cell_type": "code",
   "execution_count": null,
   "metadata": {
    "vscode": {
     "languageId": "sql"
    }
   },
   "outputs": [],
   "source": [
    "SELECT b.authors, b.title, b.average_rating, bt.tag_id\n",
    "FROM BooksDB.dbo.books AS b\n",
    "INNER JOIN BooksDB.dbo.book_tags AS bt ON bt.goodreads_book_id = book_id\n",
    "INNER JOIN BooksDB.dbo.tags AS t ON t.tag_id = bt.tag_id\n",
    "WHERE t.tag_name LIKE '&math&' OR t.tag_name LIKE '%mathematics%' OR t.tag_name = 'pi' OR t.tag_name LIKE '%3.14%'\n",
    "ORDER BY b.authors ASC, b.title ASC;"
   ]
  },
  {
   "cell_type": "markdown",
   "metadata": {},
   "source": [
    "Record your thoughts about why you wrote the query the way you did.\n",
    "\n",
    "We had to join 3 tables in order to link the tag_name to the title, authors, and average_rating columns. We used words like math and mathmatics to celebrate Pi Day!"
   ]
  },
  {
   "cell_type": "markdown",
   "metadata": {},
   "source": [
    "# Part 2: Choose Another Month\n",
    "\n",
    "Choose another month and plan at least 2 events / promotions and answer the following questions:\n",
    "1. Which month did you choose? November\n",
    "1. What 2 events / promotions are you highlighting? Thanksgiving & Veteran's Day"
   ]
  },
  {
   "cell_type": "markdown",
   "metadata": {},
   "source": [
    "# Part 3: Summarize your Work\n",
    "\n",
    "For each event write at least one query that joins any two tables in `BooksDB` to support your choice and record you thoughts as to why you used the paticlular query. At least one of your queries needs to include a `HAVING` clause."
   ]
  },
  {
   "cell_type": "code",
   "execution_count": null,
   "metadata": {
    "vscode": {
     "languageId": "sql"
    }
   },
   "outputs": [],
   "source": [
    "SELECT b.title, b.authors, b.average_rating, bt.tag_id, t.tag_name\n",
    "FROM BooksDB.dbo.books AS b \n",
    "INNER JOIN BooksDB.dbo.book_tags AS bt ON b.best_book_id = bt.goodreads_book_id\n",
    "INNER JOIN BooksDB.dbo.tags AS t ON bt.tag_id = t.tag_id\n",
    "GROUP BY b.title, b.authors, b.average_rating, bt.tag_id, t.tag_name\n",
    "HAVING tag_name LIKE 'veteran' OR tag_name LIKE 'army' OR tag_name LIKE 'navy'\n",
    "OR tag_name LIKE 'airforce' OR tag_name LIKE 'marines'\n",
    "Order BY b.average_rating DESC "
   ]
  },
  {
   "cell_type": "markdown",
   "metadata": {},
   "source": [
    "### Summarize Event 1\n",
    "\n",
    "We have joined the books table with the book_tags and tags tables. We joined all 3 in order to link the tag names with the title and authors. We searched for specific military branches and veterans to pull books to celebrate Veteran's Day."
   ]
  },
  {
   "cell_type": "code",
   "execution_count": null,
   "metadata": {
    "vscode": {
     "languageId": "sql"
    }
   },
   "outputs": [],
   "source": [
    "SELECT b.title, b.authors, b.average_rating, bt.tag_id, t.tag_name\n",
    "FROM BooksDB.dbo.books AS b \n",
    "INNER JOIN BooksDB.dbo.book_tags AS bt ON b.best_book_id = bt.goodreads_book_id\n",
    "INNER JOIN BooksDB.dbo.tags AS t ON bt.tag_id = t.tag_id\n",
    "GROUP BY b.title, b.authors, b.average_rating, bt.tag_id, t.tag_name\n",
    "HAVING tag_name LIKE '%thanksgiving%' OR tag_name LIKE '%turkey%' \n",
    "Order BY b.average_rating DESC "
   ]
  },
  {
   "cell_type": "markdown",
   "metadata": {},
   "source": [
    "### Summarize Event 2\n",
    "\n",
    "We have joined the books table with the book_tags and tags tables. We joined all 3 in order to link the tag names with the title and authors. We were searching for Thanksgiving related books and ordered them by highest rated."
   ]
  }
 ],
 "metadata": {
  "language_info": {
   "name": "python"
  }
 },
 "nbformat": 4,
 "nbformat_minor": 2
}
